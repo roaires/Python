{
 "cells": [
  {
   "cell_type": "code",
   "execution_count": 76,
   "metadata": {
    "collapsed": true
   },
   "outputs": [],
   "source": [
    "from pandas import DataFrame, read_csv\n",
    "import matplotlib.pyplot as plt\n",
    "import pandas as pd \n",
    "import numpy as np"
   ]
  },
  {
   "cell_type": "code",
   "execution_count": 77,
   "metadata": {
    "collapsed": true
   },
   "outputs": [],
   "source": [
    "def SetAlfa(x) : \n",
    "    global _alfa\n",
    "    _alfa = x"
   ]
  },
  {
   "cell_type": "code",
   "execution_count": 78,
   "metadata": {
    "collapsed": true
   },
   "outputs": [],
   "source": [
    "def SetBeta(x) : \n",
    "    global _beta\n",
    "    _beta = x"
   ]
  },
  {
   "cell_type": "code",
   "execution_count": 79,
   "metadata": {
    "collapsed": true
   },
   "outputs": [],
   "source": [
    "def Alfa() : return _alfa"
   ]
  },
  {
   "cell_type": "code",
   "execution_count": 80,
   "metadata": {
    "collapsed": true
   },
   "outputs": [],
   "source": [
    "def Beta() : return _beta"
   ]
  },
  {
   "cell_type": "code",
   "execution_count": 81,
   "metadata": {
    "collapsed": true
   },
   "outputs": [],
   "source": [
    "def FormatarFloat(x) : return round(x,4)"
   ]
  },
  {
   "cell_type": "code",
   "execution_count": 82,
   "metadata": {
    "collapsed": true
   },
   "outputs": [],
   "source": [
    "def CriarCamposTabela(x): return float(0), float(0),float(0), float(0),float(0) "
   ]
  },
  {
   "cell_type": "code",
   "execution_count": 83,
   "metadata": {
    "collapsed": true
   },
   "outputs": [],
   "source": [
    "def RetornarValorSetupLB() : return FormatarFloat(df.loc[1][\"yt\"]), FormatarFloat(df.loc[2][\"yt\"] - df.loc[1][\"yt\"]) "
   ]
  },
  {
   "cell_type": "code",
   "execution_count": 84,
   "metadata": {
    "collapsed": true
   },
   "outputs": [],
   "source": [
    "def AjustarValorSetupLB() : \n",
    "    df.set_value(0,\"L\", RetornarValorSetupLB()[0]) \n",
    "    df.set_value(0,\"B\", RetornarValorSetupLB()[1])"
   ]
  },
  {
   "cell_type": "code",
   "execution_count": 85,
   "metadata": {
    "collapsed": true
   },
   "outputs": [],
   "source": [
    "def CalcularL(yt,bAnt, lAnt ) : return FormatarFloat(Alfa()*yt+(1-Alfa())*(bAnt+lAnt))"
   ]
  },
  {
   "cell_type": "code",
   "execution_count": 86,
   "metadata": {
    "collapsed": true
   },
   "outputs": [],
   "source": [
    "def CalcularB(l, lAnt, bAnt ) : return FormatarFloat(Beta()*(l-lAnt)+(1-Beta())*bAnt)"
   ]
  },
  {
   "cell_type": "code",
   "execution_count": 87,
   "metadata": {
    "collapsed": true
   },
   "outputs": [],
   "source": [
    "def CalcularF(l, lAnt, bAnt ) : return FormatarFloat(Beta()*(l-lAnt)+(1-Beta())*bAnt)"
   ]
  },
  {
   "cell_type": "code",
   "execution_count": 88,
   "metadata": {
    "collapsed": true
   },
   "outputs": [],
   "source": [
    "def CalcularF(l, h, b) : return FormatarFloat(l+(h*b))"
   ]
  },
  {
   "cell_type": "code",
   "execution_count": 89,
   "metadata": {
    "collapsed": true
   },
   "outputs": [],
   "source": [
    "def CalcularE(yt, f) : return FormatarFloat(abs(yt-f))"
   ]
  },
  {
   "cell_type": "code",
   "execution_count": 90,
   "metadata": {
    "collapsed": true
   },
   "outputs": [],
   "source": [
    "def CalcularEPerc(e, yt) : return FormatarFloat((e/yt)*100)"
   ]
  },
  {
   "cell_type": "code",
   "execution_count": 91,
   "metadata": {
    "collapsed": true
   },
   "outputs": [],
   "source": [
    "def RetornarValorMAE() : return FormatarFloat(df[\"E\"].mean())"
   ]
  },
  {
   "cell_type": "code",
   "execution_count": 92,
   "metadata": {
    "collapsed": true
   },
   "outputs": [],
   "source": [
    "def RetornarValorMAPE() : return FormatarFloat(df[\"E%\"].mean())"
   ]
  },
  {
   "cell_type": "code",
   "execution_count": 93,
   "metadata": {
    "collapsed": true
   },
   "outputs": [],
   "source": [
    "def CalcularLinha(indice) :\n",
    "    df.set_value(indice,\"L\", CalcularL(df.loc[indice][\"yt\"],df.loc[indice-1][\"B\"], df.loc[indice-1][\"L\"] ))\n",
    "    df.set_value(indice,\"B\", CalcularB(df.loc[indice][\"L\"], df.loc[indice-1][\"L\"], df.loc[indice-1][\"B\"] ))\n",
    "    df.set_value(indice,\"F\", CalcularF(df.loc[indice][\"L\"], 1, df.loc[indice][\"B\"] ))\n",
    "    df.set_value(indice,\"E\", CalcularE(df.loc[indice][\"yt\"], df.loc[indice][\"F\"]))\n",
    "    df.set_value(indice,\"E%\", CalcularEPerc(df.loc[indice][\"E\"], df.loc[indice][\"yt\"]))\n"
   ]
  },
  {
   "cell_type": "code",
   "execution_count": 94,
   "metadata": {
    "collapsed": true
   },
   "outputs": [],
   "source": [
    "def CalcularLinhas() :\n",
    "        for indice in range(1, df.t.count()) :\n",
    "                CalcularLinha(indice)"
   ]
  },
  {
   "cell_type": "code",
   "execution_count": 95,
   "metadata": {
    "collapsed": true
   },
   "outputs": [],
   "source": [
    "#Memória do modelo Holt Exponencial\n",
    "def CriarLinhasPrevisoes(Qtde, dfOriginal) :\n",
    "    lUltimo = df.loc[df.L.count()-1][\"L\"]\n",
    "    bUltimo = df.loc[df.B.count()-1][\"B\"]\n",
    "    countDF = df.t.count()-1\n",
    "    for x in range(1, Qtde+1) :        \n",
    "        data = [[countDF + x, 0, FormatarFloat(0), FormatarFloat(0), FormatarFloat(0), CalcularF(lUltimo, x, bUltimo), FormatarFloat(0), FormatarFloat(0)]]\n",
    "        df2 = pd.DataFrame(data,columns=['t','Ano','yt','L','B','F','E','E%'])\n",
    "        dfOriginal = dfOriginal.append(df2)\n",
    "    return dfOriginal"
   ]
  },
  {
   "cell_type": "code",
   "execution_count": 96,
   "metadata": {
    "collapsed": true
   },
   "outputs": [],
   "source": [
    "def CalcularHoltExponencialSimples() :\n",
    "    global MAE\n",
    "    global MAPE\n",
    "    MelhorAlfa = 0\n",
    "    MelhorBeta = 0\n",
    "    MenorPercentualErro = 9999999.99\n",
    "    SetAlfa(0.1)\n",
    "    SetBeta(0.9)\n",
    "    #Incrementando Alfa e subtraindo Beta\n",
    "    while (Alfa() <= 0.9) :\n",
    "        CalcularLinhas()    \n",
    "        MAE = RetornarValorMAE()    \n",
    "        MAPE = RetornarValorMAPE()\n",
    "        if (MenorPercentualErro > MAPE ):\n",
    "            MelhorAlfa = Alfa()\n",
    "            MelhorBeta = Beta()\n",
    "            MenorPercentualErro = MAPE\n",
    "        SetAlfa(Alfa() + 0.1)\n",
    "        SetBeta(Beta() - 0.1)\n",
    "        \n",
    "    #Incrementando Beta e subtraindo Alfa\n",
    "    SetAlfa(0.9)\n",
    "    SetBeta(0.1)\n",
    "    while (Beta() <= 0.9) :\n",
    "        CalcularLinhas()    \n",
    "        MAE = RetornarValorMAE()    \n",
    "        MAPE = RetornarValorMAPE()\n",
    "        if (MenorPercentualErro > MAPE ) :\n",
    "            MelhorAlfa = Alfa()\n",
    "            MelhorBeta = Beta()\n",
    "            MenorPercentualErro = MAPE\n",
    "        SetAlfa(Alfa() - 0.1)\n",
    "        SetBeta(Beta() + 0.1)\n",
    "        \n",
    "    ##Apresenta o melhor modelo    \n",
    "    SetAlfa(MelhorAlfa)\n",
    "    SetBeta(MelhorBeta)\n",
    "    CalcularLinhas()    \n",
    "    MAE = RetornarValorMAE()    \n",
    "    MAPE = RetornarValorMAPE()\n",
    "    print ('Melhor Alfa: ' + str(FormatarFloat(MelhorAlfa) ));\n",
    "    print ('Melhor Beta: ' + str(FormatarFloat(MelhorBeta) )); \n",
    "    ImprimirMAE_MAPE()\n",
    "    return CriarLinhasPrevisoes(5, df)    \n",
    "    "
   ]
  },
  {
   "cell_type": "code",
   "execution_count": 97,
   "metadata": {
    "collapsed": true
   },
   "outputs": [],
   "source": [
    "def ImprimirMAE_MAPE() :\n",
    "    print ('Melhor MAE: ' + str(FormatarFloat(MAE) ));\n",
    "    print ('Melhor MAPE: ' + str(FormatarFloat(MAPE) ));"
   ]
  },
  {
   "cell_type": "code",
   "execution_count": 98,
   "metadata": {
    "collapsed": true
   },
   "outputs": [],
   "source": [
    "#Testes das rotinas  - validação de valores\n",
    "#CalcularL(9.75,9.75, -0.75 )\n",
    "#CalcularB(9.6, 9.75, -0.75 )\n",
    "#CalcularF(9.6, 1, -0.63)\n",
    "#CalcularE(9.75, 8.97)\n",
    "#CalcularEPerc(0.78, 9.75)\n",
    "#CalcularLinha(1)"
   ]
  },
  {
   "cell_type": "code",
   "execution_count": 99,
   "metadata": {
    "collapsed": true
   },
   "outputs": [],
   "source": [
    "filepath = r'c:/projetos/dados/pasageiros.csv'"
   ]
  },
  {
   "cell_type": "code",
   "execution_count": 100,
   "metadata": {
    "collapsed": true,
    "scrolled": true
   },
   "outputs": [],
   "source": [
    "load = pd.read_csv(filepath,  sep=';').fillna(0)"
   ]
  },
  {
   "cell_type": "code",
   "execution_count": 101,
   "metadata": {
    "collapsed": true
   },
   "outputs": [],
   "source": [
    "df = load"
   ]
  },
  {
   "cell_type": "code",
   "execution_count": 102,
   "metadata": {
    "collapsed": true
   },
   "outputs": [],
   "source": [
    "#df"
   ]
  },
  {
   "cell_type": "code",
   "execution_count": 103,
   "metadata": {},
   "outputs": [
    {
     "data": {
      "text/html": [
       "<div>\n",
       "<style>\n",
       "    .dataframe thead tr:only-child th {\n",
       "        text-align: right;\n",
       "    }\n",
       "\n",
       "    .dataframe thead th {\n",
       "        text-align: left;\n",
       "    }\n",
       "\n",
       "    .dataframe tbody tr th {\n",
       "        vertical-align: top;\n",
       "    }\n",
       "</style>\n",
       "<table border=\"1\" class=\"dataframe\">\n",
       "  <thead>\n",
       "    <tr style=\"text-align: right;\">\n",
       "      <th></th>\n",
       "      <th>t</th>\n",
       "      <th>Ano</th>\n",
       "      <th>yt</th>\n",
       "      <th>L</th>\n",
       "      <th>B</th>\n",
       "      <th>F</th>\n",
       "      <th>E</th>\n",
       "      <th>E%</th>\n",
       "    </tr>\n",
       "  </thead>\n",
       "  <tbody>\n",
       "    <tr>\n",
       "      <th>0</th>\n",
       "      <td>0</td>\n",
       "      <td>1989</td>\n",
       "      <td>0.00</td>\n",
       "      <td>0.0</td>\n",
       "      <td>0.0</td>\n",
       "      <td>0.0</td>\n",
       "      <td>NaN</td>\n",
       "      <td>NaN</td>\n",
       "    </tr>\n",
       "    <tr>\n",
       "      <th>1</th>\n",
       "      <td>1</td>\n",
       "      <td>1990</td>\n",
       "      <td>17.55</td>\n",
       "      <td>0.0</td>\n",
       "      <td>0.0</td>\n",
       "      <td>0.0</td>\n",
       "      <td>0.0</td>\n",
       "      <td>0.0</td>\n",
       "    </tr>\n",
       "    <tr>\n",
       "      <th>2</th>\n",
       "      <td>2</td>\n",
       "      <td>1991</td>\n",
       "      <td>21.86</td>\n",
       "      <td>0.0</td>\n",
       "      <td>0.0</td>\n",
       "      <td>0.0</td>\n",
       "      <td>0.0</td>\n",
       "      <td>0.0</td>\n",
       "    </tr>\n",
       "    <tr>\n",
       "      <th>3</th>\n",
       "      <td>3</td>\n",
       "      <td>1992</td>\n",
       "      <td>23.89</td>\n",
       "      <td>0.0</td>\n",
       "      <td>0.0</td>\n",
       "      <td>0.0</td>\n",
       "      <td>0.0</td>\n",
       "      <td>0.0</td>\n",
       "    </tr>\n",
       "    <tr>\n",
       "      <th>4</th>\n",
       "      <td>4</td>\n",
       "      <td>1993</td>\n",
       "      <td>26.93</td>\n",
       "      <td>0.0</td>\n",
       "      <td>0.0</td>\n",
       "      <td>0.0</td>\n",
       "      <td>0.0</td>\n",
       "      <td>0.0</td>\n",
       "    </tr>\n",
       "    <tr>\n",
       "      <th>5</th>\n",
       "      <td>5</td>\n",
       "      <td>1994</td>\n",
       "      <td>26.89</td>\n",
       "      <td>0.0</td>\n",
       "      <td>0.0</td>\n",
       "      <td>0.0</td>\n",
       "      <td>0.0</td>\n",
       "      <td>0.0</td>\n",
       "    </tr>\n",
       "    <tr>\n",
       "      <th>6</th>\n",
       "      <td>6</td>\n",
       "      <td>1995</td>\n",
       "      <td>28.83</td>\n",
       "      <td>0.0</td>\n",
       "      <td>0.0</td>\n",
       "      <td>0.0</td>\n",
       "      <td>0.0</td>\n",
       "      <td>0.0</td>\n",
       "    </tr>\n",
       "    <tr>\n",
       "      <th>7</th>\n",
       "      <td>7</td>\n",
       "      <td>1996</td>\n",
       "      <td>30.08</td>\n",
       "      <td>0.0</td>\n",
       "      <td>0.0</td>\n",
       "      <td>0.0</td>\n",
       "      <td>0.0</td>\n",
       "      <td>0.0</td>\n",
       "    </tr>\n",
       "    <tr>\n",
       "      <th>8</th>\n",
       "      <td>8</td>\n",
       "      <td>1997</td>\n",
       "      <td>30.95</td>\n",
       "      <td>0.0</td>\n",
       "      <td>0.0</td>\n",
       "      <td>0.0</td>\n",
       "      <td>0.0</td>\n",
       "      <td>0.0</td>\n",
       "    </tr>\n",
       "    <tr>\n",
       "      <th>9</th>\n",
       "      <td>9</td>\n",
       "      <td>1998</td>\n",
       "      <td>30.19</td>\n",
       "      <td>0.0</td>\n",
       "      <td>0.0</td>\n",
       "      <td>0.0</td>\n",
       "      <td>0.0</td>\n",
       "      <td>0.0</td>\n",
       "    </tr>\n",
       "    <tr>\n",
       "      <th>10</th>\n",
       "      <td>10</td>\n",
       "      <td>1999</td>\n",
       "      <td>31.58</td>\n",
       "      <td>0.0</td>\n",
       "      <td>0.0</td>\n",
       "      <td>0.0</td>\n",
       "      <td>0.0</td>\n",
       "      <td>0.0</td>\n",
       "    </tr>\n",
       "    <tr>\n",
       "      <th>11</th>\n",
       "      <td>11</td>\n",
       "      <td>2000</td>\n",
       "      <td>32.58</td>\n",
       "      <td>0.0</td>\n",
       "      <td>0.0</td>\n",
       "      <td>0.0</td>\n",
       "      <td>0.0</td>\n",
       "      <td>0.0</td>\n",
       "    </tr>\n",
       "    <tr>\n",
       "      <th>12</th>\n",
       "      <td>12</td>\n",
       "      <td>2001</td>\n",
       "      <td>33.48</td>\n",
       "      <td>0.0</td>\n",
       "      <td>0.0</td>\n",
       "      <td>0.0</td>\n",
       "      <td>0.0</td>\n",
       "      <td>0.0</td>\n",
       "    </tr>\n",
       "    <tr>\n",
       "      <th>13</th>\n",
       "      <td>13</td>\n",
       "      <td>2002</td>\n",
       "      <td>39.02</td>\n",
       "      <td>0.0</td>\n",
       "      <td>0.0</td>\n",
       "      <td>0.0</td>\n",
       "      <td>0.0</td>\n",
       "      <td>0.0</td>\n",
       "    </tr>\n",
       "    <tr>\n",
       "      <th>14</th>\n",
       "      <td>14</td>\n",
       "      <td>2003</td>\n",
       "      <td>41.39</td>\n",
       "      <td>0.0</td>\n",
       "      <td>0.0</td>\n",
       "      <td>0.0</td>\n",
       "      <td>0.0</td>\n",
       "      <td>0.0</td>\n",
       "    </tr>\n",
       "    <tr>\n",
       "      <th>15</th>\n",
       "      <td>15</td>\n",
       "      <td>2004</td>\n",
       "      <td>41.60</td>\n",
       "      <td>0.0</td>\n",
       "      <td>0.0</td>\n",
       "      <td>0.0</td>\n",
       "      <td>0.0</td>\n",
       "      <td>0.0</td>\n",
       "    </tr>\n",
       "  </tbody>\n",
       "</table>\n",
       "</div>"
      ],
      "text/plain": [
       "     t   Ano     yt    L    B    F    E   E%\n",
       "0    0  1989   0.00  0.0  0.0  0.0  NaN  NaN\n",
       "1    1  1990  17.55  0.0  0.0  0.0  0.0  0.0\n",
       "2    2  1991  21.86  0.0  0.0  0.0  0.0  0.0\n",
       "3    3  1992  23.89  0.0  0.0  0.0  0.0  0.0\n",
       "4    4  1993  26.93  0.0  0.0  0.0  0.0  0.0\n",
       "5    5  1994  26.89  0.0  0.0  0.0  0.0  0.0\n",
       "6    6  1995  28.83  0.0  0.0  0.0  0.0  0.0\n",
       "7    7  1996  30.08  0.0  0.0  0.0  0.0  0.0\n",
       "8    8  1997  30.95  0.0  0.0  0.0  0.0  0.0\n",
       "9    9  1998  30.19  0.0  0.0  0.0  0.0  0.0\n",
       "10  10  1999  31.58  0.0  0.0  0.0  0.0  0.0\n",
       "11  11  2000  32.58  0.0  0.0  0.0  0.0  0.0\n",
       "12  12  2001  33.48  0.0  0.0  0.0  0.0  0.0\n",
       "13  13  2002  39.02  0.0  0.0  0.0  0.0  0.0\n",
       "14  14  2003  41.39  0.0  0.0  0.0  0.0  0.0\n",
       "15  15  2004  41.60  0.0  0.0  0.0  0.0  0.0"
      ]
     },
     "execution_count": 103,
     "metadata": {},
     "output_type": "execute_result"
    }
   ],
   "source": [
    "df[\"L\"], df[\"B\"], df[\"F\"], df[\"E\"], df[\"E%\"]= zip(*df[\"yt\"].map(CriarCamposTabela))\n",
    "\n",
    "#Definição de valores NaN (NULO) para não impactar na média\n",
    "df.set_value(0,\"E\", 'NaN')\n",
    "df.set_value(0,\"E%\", 'NaN')"
   ]
  },
  {
   "cell_type": "code",
   "execution_count": 104,
   "metadata": {
    "collapsed": true
   },
   "outputs": [],
   "source": [
    "#df"
   ]
  },
  {
   "cell_type": "code",
   "execution_count": 105,
   "metadata": {
    "collapsed": true
   },
   "outputs": [],
   "source": [
    "dfBeforeCalculos = df"
   ]
  },
  {
   "cell_type": "code",
   "execution_count": 106,
   "metadata": {
    "collapsed": true
   },
   "outputs": [],
   "source": [
    "AjustarValorSetupLB()"
   ]
  },
  {
   "cell_type": "code",
   "execution_count": 107,
   "metadata": {},
   "outputs": [
    {
     "name": "stdout",
     "output_type": "stream",
     "text": [
      "Melhor Alfa: 0.6\n",
      "Melhor Beta: 0.4\n",
      "Melhor MAE: 2.0898\n",
      "Melhor MAPE: 8.0838\n"
     ]
    },
    {
     "data": {
      "text/html": [
       "<div>\n",
       "<style>\n",
       "    .dataframe thead tr:only-child th {\n",
       "        text-align: right;\n",
       "    }\n",
       "\n",
       "    .dataframe thead th {\n",
       "        text-align: left;\n",
       "    }\n",
       "\n",
       "    .dataframe tbody tr th {\n",
       "        vertical-align: top;\n",
       "    }\n",
       "</style>\n",
       "<table border=\"1\" class=\"dataframe\">\n",
       "  <thead>\n",
       "    <tr style=\"text-align: right;\">\n",
       "      <th></th>\n",
       "      <th>t</th>\n",
       "      <th>Ano</th>\n",
       "      <th>yt</th>\n",
       "      <th>L</th>\n",
       "      <th>B</th>\n",
       "      <th>F</th>\n",
       "      <th>E</th>\n",
       "      <th>E%</th>\n",
       "    </tr>\n",
       "  </thead>\n",
       "  <tbody>\n",
       "    <tr>\n",
       "      <th>0</th>\n",
       "      <td>0</td>\n",
       "      <td>1989</td>\n",
       "      <td>0.00</td>\n",
       "      <td>17.5500</td>\n",
       "      <td>4.3100</td>\n",
       "      <td>0.0000</td>\n",
       "      <td>NaN</td>\n",
       "      <td>NaN</td>\n",
       "    </tr>\n",
       "    <tr>\n",
       "      <th>1</th>\n",
       "      <td>1</td>\n",
       "      <td>1990</td>\n",
       "      <td>17.55</td>\n",
       "      <td>19.2740</td>\n",
       "      <td>3.2756</td>\n",
       "      <td>22.5496</td>\n",
       "      <td>4.9996</td>\n",
       "      <td>28.4877</td>\n",
       "    </tr>\n",
       "    <tr>\n",
       "      <th>2</th>\n",
       "      <td>2</td>\n",
       "      <td>1991</td>\n",
       "      <td>21.86</td>\n",
       "      <td>22.1358</td>\n",
       "      <td>3.1101</td>\n",
       "      <td>25.2459</td>\n",
       "      <td>3.3859</td>\n",
       "      <td>15.4890</td>\n",
       "    </tr>\n",
       "    <tr>\n",
       "      <th>3</th>\n",
       "      <td>3</td>\n",
       "      <td>1992</td>\n",
       "      <td>23.89</td>\n",
       "      <td>24.4324</td>\n",
       "      <td>2.7847</td>\n",
       "      <td>27.2171</td>\n",
       "      <td>3.3271</td>\n",
       "      <td>13.9267</td>\n",
       "    </tr>\n",
       "    <tr>\n",
       "      <th>4</th>\n",
       "      <td>4</td>\n",
       "      <td>1993</td>\n",
       "      <td>26.93</td>\n",
       "      <td>27.0448</td>\n",
       "      <td>2.7158</td>\n",
       "      <td>29.7606</td>\n",
       "      <td>2.8306</td>\n",
       "      <td>10.5110</td>\n",
       "    </tr>\n",
       "    <tr>\n",
       "      <th>5</th>\n",
       "      <td>5</td>\n",
       "      <td>1994</td>\n",
       "      <td>26.89</td>\n",
       "      <td>28.0382</td>\n",
       "      <td>2.0268</td>\n",
       "      <td>30.0650</td>\n",
       "      <td>3.1750</td>\n",
       "      <td>11.8074</td>\n",
       "    </tr>\n",
       "    <tr>\n",
       "      <th>6</th>\n",
       "      <td>6</td>\n",
       "      <td>1995</td>\n",
       "      <td>28.83</td>\n",
       "      <td>29.3240</td>\n",
       "      <td>1.7304</td>\n",
       "      <td>31.0544</td>\n",
       "      <td>2.2244</td>\n",
       "      <td>7.7156</td>\n",
       "    </tr>\n",
       "    <tr>\n",
       "      <th>7</th>\n",
       "      <td>7</td>\n",
       "      <td>1996</td>\n",
       "      <td>30.08</td>\n",
       "      <td>30.4698</td>\n",
       "      <td>1.4966</td>\n",
       "      <td>31.9664</td>\n",
       "      <td>1.8864</td>\n",
       "      <td>6.2713</td>\n",
       "    </tr>\n",
       "    <tr>\n",
       "      <th>8</th>\n",
       "      <td>8</td>\n",
       "      <td>1997</td>\n",
       "      <td>30.95</td>\n",
       "      <td>31.3566</td>\n",
       "      <td>1.2527</td>\n",
       "      <td>32.6093</td>\n",
       "      <td>1.6593</td>\n",
       "      <td>5.3612</td>\n",
       "    </tr>\n",
       "    <tr>\n",
       "      <th>9</th>\n",
       "      <td>9</td>\n",
       "      <td>1998</td>\n",
       "      <td>30.19</td>\n",
       "      <td>31.1577</td>\n",
       "      <td>0.6721</td>\n",
       "      <td>31.8298</td>\n",
       "      <td>1.6398</td>\n",
       "      <td>5.4316</td>\n",
       "    </tr>\n",
       "    <tr>\n",
       "      <th>10</th>\n",
       "      <td>10</td>\n",
       "      <td>1999</td>\n",
       "      <td>31.58</td>\n",
       "      <td>31.6799</td>\n",
       "      <td>0.6121</td>\n",
       "      <td>32.2920</td>\n",
       "      <td>0.7120</td>\n",
       "      <td>2.2546</td>\n",
       "    </tr>\n",
       "    <tr>\n",
       "      <th>11</th>\n",
       "      <td>11</td>\n",
       "      <td>2000</td>\n",
       "      <td>32.58</td>\n",
       "      <td>32.4648</td>\n",
       "      <td>0.6812</td>\n",
       "      <td>33.1460</td>\n",
       "      <td>0.5660</td>\n",
       "      <td>1.7373</td>\n",
       "    </tr>\n",
       "    <tr>\n",
       "      <th>12</th>\n",
       "      <td>12</td>\n",
       "      <td>2001</td>\n",
       "      <td>33.48</td>\n",
       "      <td>33.3464</td>\n",
       "      <td>0.7614</td>\n",
       "      <td>34.1078</td>\n",
       "      <td>0.6278</td>\n",
       "      <td>1.8751</td>\n",
       "    </tr>\n",
       "    <tr>\n",
       "      <th>13</th>\n",
       "      <td>13</td>\n",
       "      <td>2002</td>\n",
       "      <td>39.02</td>\n",
       "      <td>37.0551</td>\n",
       "      <td>1.9403</td>\n",
       "      <td>38.9954</td>\n",
       "      <td>0.0246</td>\n",
       "      <td>0.0630</td>\n",
       "    </tr>\n",
       "    <tr>\n",
       "      <th>14</th>\n",
       "      <td>14</td>\n",
       "      <td>2003</td>\n",
       "      <td>41.39</td>\n",
       "      <td>40.4322</td>\n",
       "      <td>2.5150</td>\n",
       "      <td>42.9472</td>\n",
       "      <td>1.5572</td>\n",
       "      <td>3.7623</td>\n",
       "    </tr>\n",
       "    <tr>\n",
       "      <th>15</th>\n",
       "      <td>15</td>\n",
       "      <td>2004</td>\n",
       "      <td>41.60</td>\n",
       "      <td>42.1389</td>\n",
       "      <td>2.1917</td>\n",
       "      <td>44.3306</td>\n",
       "      <td>2.7306</td>\n",
       "      <td>6.5639</td>\n",
       "    </tr>\n",
       "    <tr>\n",
       "      <th>0</th>\n",
       "      <td>16</td>\n",
       "      <td>0</td>\n",
       "      <td>0.00</td>\n",
       "      <td>0.0000</td>\n",
       "      <td>0.0000</td>\n",
       "      <td>44.3306</td>\n",
       "      <td>0.0000</td>\n",
       "      <td>0.0000</td>\n",
       "    </tr>\n",
       "    <tr>\n",
       "      <th>0</th>\n",
       "      <td>17</td>\n",
       "      <td>0</td>\n",
       "      <td>0.00</td>\n",
       "      <td>0.0000</td>\n",
       "      <td>0.0000</td>\n",
       "      <td>46.5223</td>\n",
       "      <td>0.0000</td>\n",
       "      <td>0.0000</td>\n",
       "    </tr>\n",
       "    <tr>\n",
       "      <th>0</th>\n",
       "      <td>18</td>\n",
       "      <td>0</td>\n",
       "      <td>0.00</td>\n",
       "      <td>0.0000</td>\n",
       "      <td>0.0000</td>\n",
       "      <td>48.7140</td>\n",
       "      <td>0.0000</td>\n",
       "      <td>0.0000</td>\n",
       "    </tr>\n",
       "    <tr>\n",
       "      <th>0</th>\n",
       "      <td>19</td>\n",
       "      <td>0</td>\n",
       "      <td>0.00</td>\n",
       "      <td>0.0000</td>\n",
       "      <td>0.0000</td>\n",
       "      <td>50.9057</td>\n",
       "      <td>0.0000</td>\n",
       "      <td>0.0000</td>\n",
       "    </tr>\n",
       "    <tr>\n",
       "      <th>0</th>\n",
       "      <td>20</td>\n",
       "      <td>0</td>\n",
       "      <td>0.00</td>\n",
       "      <td>0.0000</td>\n",
       "      <td>0.0000</td>\n",
       "      <td>53.0974</td>\n",
       "      <td>0.0000</td>\n",
       "      <td>0.0000</td>\n",
       "    </tr>\n",
       "  </tbody>\n",
       "</table>\n",
       "</div>"
      ],
      "text/plain": [
       "     t   Ano     yt        L       B        F       E       E%\n",
       "0    0  1989   0.00  17.5500  4.3100   0.0000     NaN      NaN\n",
       "1    1  1990  17.55  19.2740  3.2756  22.5496  4.9996  28.4877\n",
       "2    2  1991  21.86  22.1358  3.1101  25.2459  3.3859  15.4890\n",
       "3    3  1992  23.89  24.4324  2.7847  27.2171  3.3271  13.9267\n",
       "4    4  1993  26.93  27.0448  2.7158  29.7606  2.8306  10.5110\n",
       "5    5  1994  26.89  28.0382  2.0268  30.0650  3.1750  11.8074\n",
       "6    6  1995  28.83  29.3240  1.7304  31.0544  2.2244   7.7156\n",
       "7    7  1996  30.08  30.4698  1.4966  31.9664  1.8864   6.2713\n",
       "8    8  1997  30.95  31.3566  1.2527  32.6093  1.6593   5.3612\n",
       "9    9  1998  30.19  31.1577  0.6721  31.8298  1.6398   5.4316\n",
       "10  10  1999  31.58  31.6799  0.6121  32.2920  0.7120   2.2546\n",
       "11  11  2000  32.58  32.4648  0.6812  33.1460  0.5660   1.7373\n",
       "12  12  2001  33.48  33.3464  0.7614  34.1078  0.6278   1.8751\n",
       "13  13  2002  39.02  37.0551  1.9403  38.9954  0.0246   0.0630\n",
       "14  14  2003  41.39  40.4322  2.5150  42.9472  1.5572   3.7623\n",
       "15  15  2004  41.60  42.1389  2.1917  44.3306  2.7306   6.5639\n",
       "0   16     0   0.00   0.0000  0.0000  44.3306  0.0000   0.0000\n",
       "0   17     0   0.00   0.0000  0.0000  46.5223  0.0000   0.0000\n",
       "0   18     0   0.00   0.0000  0.0000  48.7140  0.0000   0.0000\n",
       "0   19     0   0.00   0.0000  0.0000  50.9057  0.0000   0.0000\n",
       "0   20     0   0.00   0.0000  0.0000  53.0974  0.0000   0.0000"
      ]
     },
     "execution_count": 107,
     "metadata": {},
     "output_type": "execute_result"
    }
   ],
   "source": [
    "CalcularHoltExponencialSimples()"
   ]
  },
  {
   "cell_type": "code",
   "execution_count": null,
   "metadata": {},
   "outputs": [],
   "source": [
    "\n"
   ]
  }
 ],
 "metadata": {
  "kernelspec": {
   "display_name": "Python 3",
   "language": "python",
   "name": "python3"
  },
  "language_info": {
   "codemirror_mode": {
    "name": "ipython",
    "version": 3
   },
   "file_extension": ".py",
   "mimetype": "text/x-python",
   "name": "python",
   "nbconvert_exporter": "python",
   "pygments_lexer": "ipython3",
   "version": "3.6.1"
  }
 },
 "nbformat": 4,
 "nbformat_minor": 2
}
